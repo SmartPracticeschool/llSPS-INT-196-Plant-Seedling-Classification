{
 "cells": [
  {
   "cell_type": "code",
   "execution_count": 1,
   "metadata": {},
   "outputs": [
    {
     "name": "stderr",
     "output_type": "stream",
     "text": [
      "Using TensorFlow backend.\n",
      "C:\\Users\\ARVIND KARTHIK\\anaconda3\\lib\\site-packages\\tensorflow\\python\\framework\\dtypes.py:516: FutureWarning: Passing (type, 1) or '1type' as a synonym of type is deprecated; in a future version of numpy, it will be understood as (type, (1,)) / '(1,)type'.\n",
      "  _np_qint8 = np.dtype([(\"qint8\", np.int8, 1)])\n",
      "C:\\Users\\ARVIND KARTHIK\\anaconda3\\lib\\site-packages\\tensorflow\\python\\framework\\dtypes.py:517: FutureWarning: Passing (type, 1) or '1type' as a synonym of type is deprecated; in a future version of numpy, it will be understood as (type, (1,)) / '(1,)type'.\n",
      "  _np_quint8 = np.dtype([(\"quint8\", np.uint8, 1)])\n",
      "C:\\Users\\ARVIND KARTHIK\\anaconda3\\lib\\site-packages\\tensorflow\\python\\framework\\dtypes.py:518: FutureWarning: Passing (type, 1) or '1type' as a synonym of type is deprecated; in a future version of numpy, it will be understood as (type, (1,)) / '(1,)type'.\n",
      "  _np_qint16 = np.dtype([(\"qint16\", np.int16, 1)])\n",
      "C:\\Users\\ARVIND KARTHIK\\anaconda3\\lib\\site-packages\\tensorflow\\python\\framework\\dtypes.py:519: FutureWarning: Passing (type, 1) or '1type' as a synonym of type is deprecated; in a future version of numpy, it will be understood as (type, (1,)) / '(1,)type'.\n",
      "  _np_quint16 = np.dtype([(\"quint16\", np.uint16, 1)])\n",
      "C:\\Users\\ARVIND KARTHIK\\anaconda3\\lib\\site-packages\\tensorflow\\python\\framework\\dtypes.py:520: FutureWarning: Passing (type, 1) or '1type' as a synonym of type is deprecated; in a future version of numpy, it will be understood as (type, (1,)) / '(1,)type'.\n",
      "  _np_qint32 = np.dtype([(\"qint32\", np.int32, 1)])\n",
      "C:\\Users\\ARVIND KARTHIK\\anaconda3\\lib\\site-packages\\tensorflow\\python\\framework\\dtypes.py:525: FutureWarning: Passing (type, 1) or '1type' as a synonym of type is deprecated; in a future version of numpy, it will be understood as (type, (1,)) / '(1,)type'.\n",
      "  np_resource = np.dtype([(\"resource\", np.ubyte, 1)])\n",
      "C:\\Users\\ARVIND KARTHIK\\anaconda3\\lib\\site-packages\\tensorboard\\compat\\tensorflow_stub\\dtypes.py:541: FutureWarning: Passing (type, 1) or '1type' as a synonym of type is deprecated; in a future version of numpy, it will be understood as (type, (1,)) / '(1,)type'.\n",
      "  _np_qint8 = np.dtype([(\"qint8\", np.int8, 1)])\n",
      "C:\\Users\\ARVIND KARTHIK\\anaconda3\\lib\\site-packages\\tensorboard\\compat\\tensorflow_stub\\dtypes.py:542: FutureWarning: Passing (type, 1) or '1type' as a synonym of type is deprecated; in a future version of numpy, it will be understood as (type, (1,)) / '(1,)type'.\n",
      "  _np_quint8 = np.dtype([(\"quint8\", np.uint8, 1)])\n",
      "C:\\Users\\ARVIND KARTHIK\\anaconda3\\lib\\site-packages\\tensorboard\\compat\\tensorflow_stub\\dtypes.py:543: FutureWarning: Passing (type, 1) or '1type' as a synonym of type is deprecated; in a future version of numpy, it will be understood as (type, (1,)) / '(1,)type'.\n",
      "  _np_qint16 = np.dtype([(\"qint16\", np.int16, 1)])\n",
      "C:\\Users\\ARVIND KARTHIK\\anaconda3\\lib\\site-packages\\tensorboard\\compat\\tensorflow_stub\\dtypes.py:544: FutureWarning: Passing (type, 1) or '1type' as a synonym of type is deprecated; in a future version of numpy, it will be understood as (type, (1,)) / '(1,)type'.\n",
      "  _np_quint16 = np.dtype([(\"quint16\", np.uint16, 1)])\n",
      "C:\\Users\\ARVIND KARTHIK\\anaconda3\\lib\\site-packages\\tensorboard\\compat\\tensorflow_stub\\dtypes.py:545: FutureWarning: Passing (type, 1) or '1type' as a synonym of type is deprecated; in a future version of numpy, it will be understood as (type, (1,)) / '(1,)type'.\n",
      "  _np_qint32 = np.dtype([(\"qint32\", np.int32, 1)])\n",
      "C:\\Users\\ARVIND KARTHIK\\anaconda3\\lib\\site-packages\\tensorboard\\compat\\tensorflow_stub\\dtypes.py:550: FutureWarning: Passing (type, 1) or '1type' as a synonym of type is deprecated; in a future version of numpy, it will be understood as (type, (1,)) / '(1,)type'.\n",
      "  np_resource = np.dtype([(\"resource\", np.ubyte, 1)])\n"
     ]
    }
   ],
   "source": [
    "from keras.models import Sequential\n",
    "from keras.layers import Dense\n",
    "from keras.layers import Convolution2D\n",
    "from keras.layers import MaxPooling2D\n",
    "from keras.layers import Flatten"
   ]
  },
  {
   "cell_type": "code",
   "execution_count": 2,
   "metadata": {},
   "outputs": [
    {
     "name": "stdout",
     "output_type": "stream",
     "text": [
      "WARNING:tensorflow:From C:\\Users\\ARVIND KARTHIK\\anaconda3\\lib\\site-packages\\keras\\backend\\tensorflow_backend.py:74: The name tf.get_default_graph is deprecated. Please use tf.compat.v1.get_default_graph instead.\n",
      "\n"
     ]
    }
   ],
   "source": [
    "model = Sequential()"
   ]
  },
  {
   "cell_type": "code",
   "execution_count": 3,
   "metadata": {},
   "outputs": [
    {
     "name": "stdout",
     "output_type": "stream",
     "text": [
      "WARNING:tensorflow:From C:\\Users\\ARVIND KARTHIK\\anaconda3\\lib\\site-packages\\keras\\backend\\tensorflow_backend.py:517: The name tf.placeholder is deprecated. Please use tf.compat.v1.placeholder instead.\n",
      "\n",
      "WARNING:tensorflow:From C:\\Users\\ARVIND KARTHIK\\anaconda3\\lib\\site-packages\\keras\\backend\\tensorflow_backend.py:4138: The name tf.random_uniform is deprecated. Please use tf.random.uniform instead.\n",
      "\n"
     ]
    }
   ],
   "source": [
    "model.add(Convolution2D(32,(3,3),input_shape = (64,64,3),activation = 'relu'))"
   ]
  },
  {
   "cell_type": "code",
   "execution_count": 4,
   "metadata": {},
   "outputs": [
    {
     "name": "stdout",
     "output_type": "stream",
     "text": [
      "WARNING:tensorflow:From C:\\Users\\ARVIND KARTHIK\\anaconda3\\lib\\site-packages\\keras\\backend\\tensorflow_backend.py:3976: The name tf.nn.max_pool is deprecated. Please use tf.nn.max_pool2d instead.\n",
      "\n"
     ]
    }
   ],
   "source": [
    "model.add(MaxPooling2D(pool_size = (2,2)))"
   ]
  },
  {
   "cell_type": "code",
   "execution_count": 5,
   "metadata": {},
   "outputs": [],
   "source": [
    "model.add(Convolution2D(64,(3,3),activation = 'relu'))"
   ]
  },
  {
   "cell_type": "code",
   "execution_count": 6,
   "metadata": {},
   "outputs": [],
   "source": [
    "model.add(MaxPooling2D(pool_size = (2,2)))"
   ]
  },
  {
   "cell_type": "code",
   "execution_count": 7,
   "metadata": {},
   "outputs": [],
   "source": [
    "model.add(Flatten())"
   ]
  },
  {
   "cell_type": "code",
   "execution_count": 8,
   "metadata": {},
   "outputs": [
    {
     "name": "stderr",
     "output_type": "stream",
     "text": [
      "C:\\Users\\ARVIND KARTHIK\\anaconda3\\lib\\site-packages\\ipykernel_launcher.py:1: UserWarning: Update your `Dense` call to the Keras 2 API: `Dense(activation=\"relu\", units=600, kernel_initializer=\"uniform\")`\n",
      "  \"\"\"Entry point for launching an IPython kernel.\n"
     ]
    }
   ],
   "source": [
    "model.add(Dense(output_dim = 600 ,init = 'uniform',activation = 'relu'))"
   ]
  },
  {
   "cell_type": "code",
   "execution_count": 9,
   "metadata": {},
   "outputs": [
    {
     "name": "stderr",
     "output_type": "stream",
     "text": [
      "C:\\Users\\ARVIND KARTHIK\\anaconda3\\lib\\site-packages\\ipykernel_launcher.py:1: UserWarning: Update your `Dense` call to the Keras 2 API: `Dense(activation=\"softmax\", units=12)`\n",
      "  \"\"\"Entry point for launching an IPython kernel.\n"
     ]
    }
   ],
   "source": [
    "model.add(Dense(output_dim = 12,activation = 'softmax'))"
   ]
  },
  {
   "cell_type": "code",
   "execution_count": 10,
   "metadata": {},
   "outputs": [],
   "source": [
    "from keras.preprocessing.image import ImageDataGenerator\n",
    "train_datagen = ImageDataGenerator(rescale = 1./255,shear_range = 0.2,zoom_range = 0.2,horizontal_flip = True)\n",
    "test_datagen =ImageDataGenerator(rescale = 1)\n"
   ]
  },
  {
   "cell_type": "code",
   "execution_count": 11,
   "metadata": {},
   "outputs": [
    {
     "name": "stdout",
     "output_type": "stream",
     "text": [
      "Found 4750 images belonging to 12 classes.\n",
      "Found 956 images belonging to 12 classes.\n"
     ]
    }
   ],
   "source": [
    "x_train = train_datagen.flow_from_directory(r'E:\\python_basics\\project\\train',target_size = (64,64),batch_size = 32, class_mode = 'categorical')\n",
    "x_test =  test_datagen.flow_from_directory(r'E:\\python_basics\\project\\test',target_size = (64,64),batch_size = 32, class_mode = 'categorical')"
   ]
  },
  {
   "cell_type": "code",
   "execution_count": 12,
   "metadata": {},
   "outputs": [
    {
     "name": "stdout",
     "output_type": "stream",
     "text": [
      "{'Black-grass': 0, 'Charlock': 1, 'Cleavers': 2, 'Common Chickweed': 3, 'Common wheat': 4, 'Fat Hen': 5, 'Loose Silky-bent': 6, 'Maize': 7, 'Scentless Mayweed': 8, 'Shepherds Purse': 9, 'Small-flowered Cranesbill': 10, 'Sugar beet': 11}\n"
     ]
    }
   ],
   "source": [
    "print(x_train.class_indices)"
   ]
  },
  {
   "cell_type": "code",
   "execution_count": 13,
   "metadata": {},
   "outputs": [
    {
     "name": "stdout",
     "output_type": "stream",
     "text": [
      "WARNING:tensorflow:From C:\\Users\\ARVIND KARTHIK\\anaconda3\\lib\\site-packages\\keras\\optimizers.py:790: The name tf.train.Optimizer is deprecated. Please use tf.compat.v1.train.Optimizer instead.\n",
      "\n",
      "WARNING:tensorflow:From C:\\Users\\ARVIND KARTHIK\\anaconda3\\lib\\site-packages\\keras\\backend\\tensorflow_backend.py:3295: The name tf.log is deprecated. Please use tf.math.log instead.\n",
      "\n"
     ]
    }
   ],
   "source": [
    "model.compile(optimizer = 'adam',loss = 'categorical_crossentropy',metrics = ['accuracy'])"
   ]
  },
  {
   "cell_type": "code",
   "execution_count": 14,
   "metadata": {},
   "outputs": [
    {
     "name": "stdout",
     "output_type": "stream",
     "text": [
      "WARNING:tensorflow:From C:\\Users\\ARVIND KARTHIK\\anaconda3\\lib\\site-packages\\tensorflow\\python\\ops\\math_grad.py:1250: add_dispatch_support.<locals>.wrapper (from tensorflow.python.ops.array_ops) is deprecated and will be removed in a future version.\n",
      "Instructions for updating:\n",
      "Use tf.where in 2.0, which has the same broadcast rule as np.where\n",
      "WARNING:tensorflow:From C:\\Users\\ARVIND KARTHIK\\anaconda3\\lib\\site-packages\\keras\\backend\\tensorflow_backend.py:986: The name tf.assign_add is deprecated. Please use tf.compat.v1.assign_add instead.\n",
      "\n",
      "Epoch 1/30\n",
      "150/150 [==============================] - 282s 2s/step - loss: 1.9814 - acc: 0.3046 - val_loss: 8.5408 - val_acc: 0.4550\n",
      "Epoch 2/30\n",
      "150/150 [==============================] - 132s 881ms/step - loss: 1.3599 - acc: 0.5320 - val_loss: 8.0580 - val_acc: 0.4958\n",
      "Epoch 3/30\n",
      "150/150 [==============================] - 131s 873ms/step - loss: 1.1264 - acc: 0.6145 - val_loss: 8.2868 - val_acc: 0.4780\n",
      "Epoch 4/30\n",
      "150/150 [==============================] - 131s 873ms/step - loss: 0.9474 - acc: 0.6779 - val_loss: 9.7210 - val_acc: 0.3881\n",
      "Epoch 5/30\n",
      "150/150 [==============================] - 130s 865ms/step - loss: 0.8682 - acc: 0.7024 - val_loss: 10.0662 - val_acc: 0.3713\n",
      "Epoch 6/30\n",
      "150/150 [==============================] - 132s 878ms/step - loss: 0.7683 - acc: 0.7375 - val_loss: 9.7210 - val_acc: 0.3891\n",
      "Epoch 7/30\n",
      "150/150 [==============================] - 131s 875ms/step - loss: 0.6845 - acc: 0.7665 - val_loss: 9.1744 - val_acc: 0.4257\n",
      "Epoch 8/30\n",
      "150/150 [==============================] - 129s 859ms/step - loss: 0.6423 - acc: 0.7827 - val_loss: 9.0639 - val_acc: 0.4341\n",
      "Epoch 9/30\n",
      "150/150 [==============================] - 130s 866ms/step - loss: 0.5983 - acc: 0.8021 - val_loss: 9.7040 - val_acc: 0.3944\n",
      "Epoch 10/30\n",
      "150/150 [==============================] - 358s 2s/step - loss: 0.5362 - acc: 0.8175 - val_loss: 9.8610 - val_acc: 0.3849\n",
      "Epoch 11/30\n",
      "150/150 [==============================] - 99s 658ms/step - loss: 0.5103 - acc: 0.8242 - val_loss: 7.7675 - val_acc: 0.5146\n",
      "Epoch 12/30\n",
      "150/150 [==============================] - 132s 877ms/step - loss: 0.5013 - acc: 0.8298 - val_loss: 8.8950 - val_acc: 0.4446\n",
      "Epoch 13/30\n",
      "150/150 [==============================] - 132s 880ms/step - loss: 0.4186 - acc: 0.8595 - val_loss: 8.4604 - val_acc: 0.4738\n",
      "Epoch 14/30\n",
      "150/150 [==============================] - 131s 876ms/step - loss: 0.3983 - acc: 0.8630 - val_loss: 8.5449 - val_acc: 0.4686\n",
      "Epoch 15/30\n",
      "150/150 [==============================] - 131s 874ms/step - loss: 0.3846 - acc: 0.8653 - val_loss: 7.5815 - val_acc: 0.5282\n",
      "Epoch 16/30\n",
      "150/150 [==============================] - 132s 879ms/step - loss: 0.3553 - acc: 0.8819 - val_loss: 8.5340 - val_acc: 0.4665\n",
      "Epoch 17/30\n",
      "150/150 [==============================] - 132s 877ms/step - loss: 0.3298 - acc: 0.8879 - val_loss: 7.8680 - val_acc: 0.5105\n",
      "Epoch 18/30\n",
      "150/150 [==============================] - 132s 882ms/step - loss: 0.3170 - acc: 0.8862 - val_loss: 7.8061 - val_acc: 0.5157\n",
      "Epoch 19/30\n",
      "150/150 [==============================] - 130s 868ms/step - loss: 0.2837 - acc: 0.9008 - val_loss: 7.5391 - val_acc: 0.5303\n",
      "Epoch 20/30\n",
      "150/150 [==============================] - 131s 874ms/step - loss: 0.2687 - acc: 0.9090 - val_loss: 7.5297 - val_acc: 0.5272\n",
      "Epoch 21/30\n",
      "150/150 [==============================] - 132s 880ms/step - loss: 0.2479 - acc: 0.9086 - val_loss: 7.9486 - val_acc: 0.5021\n",
      "Epoch 22/30\n",
      "150/150 [==============================] - 134s 895ms/step - loss: 0.2330 - acc: 0.9156 - val_loss: 9.5248 - val_acc: 0.4079\n",
      "Epoch 23/30\n",
      "150/150 [==============================] - 131s 870ms/step - loss: 0.2218 - acc: 0.9231 - val_loss: 8.7819 - val_acc: 0.4529\n",
      "Epoch 24/30\n",
      "150/150 [==============================] - 132s 879ms/step - loss: 0.1919 - acc: 0.9338 - val_loss: 7.8569 - val_acc: 0.5094\n",
      "Epoch 25/30\n",
      "150/150 [==============================] - 130s 868ms/step - loss: 0.1837 - acc: 0.9379 - val_loss: 8.4707 - val_acc: 0.4738\n",
      "Epoch 26/30\n",
      "150/150 [==============================] - 134s 892ms/step - loss: 0.1781 - acc: 0.9343 - val_loss: 7.7069 - val_acc: 0.5209\n",
      "Epoch 27/30\n",
      "150/150 [==============================] - 132s 882ms/step - loss: 0.1846 - acc: 0.9342 - val_loss: 7.8378 - val_acc: 0.5126\n",
      "Epoch 28/30\n",
      "150/150 [==============================] - 132s 881ms/step - loss: 0.1422 - acc: 0.9527 - val_loss: 8.2106 - val_acc: 0.4885\n",
      "Epoch 29/30\n",
      "150/150 [==============================] - 130s 864ms/step - loss: 0.1402 - acc: 0.9525 - val_loss: 7.4292 - val_acc: 0.5345\n",
      "Epoch 30/30\n",
      "150/150 [==============================] - 132s 883ms/step - loss: 0.1172 - acc: 0.9585 - val_loss: 7.6649 - val_acc: 0.5230\n"
     ]
    },
    {
     "data": {
      "text/plain": [
       "<keras.callbacks.History at 0x2aeff94b7c8>"
      ]
     },
     "execution_count": 14,
     "metadata": {},
     "output_type": "execute_result"
    }
   ],
   "source": [
    "model.fit_generator(x_train, steps_per_epoch = 150,epochs=30,validation_data = x_test,validation_steps = 30)"
   ]
  },
  {
   "cell_type": "code",
   "execution_count": 15,
   "metadata": {},
   "outputs": [],
   "source": [
    "model.save(\"seedling.h5\")"
   ]
  },
  {
   "cell_type": "code",
   "execution_count": null,
   "metadata": {},
   "outputs": [],
   "source": []
  }
 ],
 "metadata": {
  "kernelspec": {
   "display_name": "Python 3",
   "language": "python",
   "name": "python3"
  },
  "language_info": {
   "codemirror_mode": {
    "name": "ipython",
    "version": 3
   },
   "file_extension": ".py",
   "mimetype": "text/x-python",
   "name": "python",
   "nbconvert_exporter": "python",
   "pygments_lexer": "ipython3",
   "version": "3.7.6"
  }
 },
 "nbformat": 4,
 "nbformat_minor": 2
}
